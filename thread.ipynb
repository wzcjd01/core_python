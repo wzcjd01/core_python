{
 "metadata": {
  "name": "",
  "signature": "sha256:b290d5a715d73bf6e06aad0dc128e08f3461a92be9533445677204a68c8056d4"
 },
 "nbformat": 3,
 "nbformat_minor": 0,
 "worksheets": [
  {
   "cells": [
    {
     "cell_type": "code",
     "collapsed": false,
     "input": [
      "# One thread\n",
      "from time import sleep, ctime\n",
      "\n",
      "def loop0():\n",
      "    print 'start loop 0 at:', ctime()\n",
      "    sleep(4)\n",
      "    print 'loop 0 done at:', ctime()\n",
      " \n",
      "def loop1():\n",
      "    print 'start loop 1 at:', ctime()\n",
      "    sleep(2)\n",
      "    print 'loop 1 done at:', ctime()\n",
      "    \n",
      "print 'starting at:', ctime()\n",
      "loop0()\n",
      "loop1()\n",
      "print 'all DONE at:', ctime()"
     ],
     "language": "python",
     "metadata": {},
     "outputs": [
      {
       "output_type": "stream",
       "stream": "stdout",
       "text": [
        "starting at: Sun Nov 09 02:13:08 2014\n",
        "start loop 0 at: Sun Nov 09 02:13:08 2014\n",
        "loop 0 done at:"
       ]
      },
      {
       "output_type": "stream",
       "stream": "stdout",
       "text": [
        " Sun Nov 09 02:13:12 2014\n",
        "start loop 1 at: Sun Nov 09 02:13:12 2014\n",
        "loop 1 done at:"
       ]
      },
      {
       "output_type": "stream",
       "stream": "stdout",
       "text": [
        " Sun Nov 09 02:13:14 2014\n",
        "all DONE at: Sun Nov 09 02:13:14 2014\n"
       ]
      }
     ],
     "prompt_number": 10
    },
    {
     "cell_type": "heading",
     "level": 1,
     "metadata": {},
     "source": [
      "Thread Module"
     ]
    },
    {
     "cell_type": "code",
     "collapsed": false,
     "input": [
      "# Multithread\n",
      "import thread\n",
      "\n",
      "print 'starting at\uff1a', ctime()\n",
      "thread.start_new_thread(loop0, ())\n",
      "thread.start_new_thread(loop1, ())\n",
      "sleep(6)  # for thread synchronization\n",
      "print 'all DONE at:', ctime()"
     ],
     "language": "python",
     "metadata": {},
     "outputs": [
      {
       "output_type": "stream",
       "stream": "stdout",
       "text": [
        "starting at\uff1a Sun Nov 09 02:13:14 2014\n",
        "start loop 0 at: start loop 1 at: Sun Nov 09 02:13:14 2014\n",
        "Sun Nov 09 02:13:14 2014\n",
        "loop 1 done at: Sun Nov 09 02:13:16 2014\n",
        "loop 0 done at: Sun Nov 09 02:13:18 2014\n",
        "all DONE at:"
       ]
      },
      {
       "output_type": "stream",
       "stream": "stdout",
       "text": [
        " Sun Nov 09 02:13:20 2014\n"
       ]
      }
     ],
     "prompt_number": 11
    },
    {
     "cell_type": "code",
     "collapsed": false,
     "input": [
      "# Multithread with lock\n",
      "\n",
      "secs = [4, 2]  # sleeping seconds in every loop\n",
      "nloops = range(len(secs))\n",
      "locks =[]\n",
      "\n",
      "def loop(nloop, nsec, lock):\n",
      "    print 'start loop', nloop, 'at:', ctime()\n",
      "    sleep(nsec)\n",
      "    print 'loop', nloop, 'done at:', ctime()\n",
      "    lock.release()\n",
      " \n",
      "print 'starting at:', ctime()\n",
      "print '-' * 50\n",
      "\n",
      "# create a list of locks\n",
      "for i in nloops:  \n",
      "    lock = thread.allocate_lock()\n",
      "    lock.acquire()\n",
      "    locks.append(lock)\n",
      "\n",
      "# spawninb threads\n",
      "for i in nloops:\n",
      "    thread.start_new_thread(loop, (i, secs[i], locks[i]))\n",
      "\n",
      "# main thread waiting for child threads to exit\n",
      "for i in nloops:\n",
      "    while locks[i].locked(): pass\n",
      "    \n",
      "print '-' * 50\n",
      "print 'all DONE at:', ctime()"
     ],
     "language": "python",
     "metadata": {},
     "outputs": [
      {
       "output_type": "stream",
       "stream": "stdout",
       "text": [
        "starting at: Sun Nov 09 02:13:20 2014\n",
        "--------------------------------------------------\n",
        "start loop 0 at:start loop  Sun Nov 09 02:13:20 20141 at:\n",
        " Sun Nov 09 02:13:20 2014\n",
        "loop 1 done at: Sun Nov 09 02:13:22 2014\n",
        "loop 0 done at: Sun Nov 09 02:13:24 2014\n",
        "--------------------------------------------------"
       ]
      },
      {
       "output_type": "stream",
       "stream": "stdout",
       "text": [
        "\n",
        "all DONE at: Sun Nov 09 02:13:24 2014\n"
       ]
      }
     ],
     "prompt_number": 12
    },
    {
     "cell_type": "heading",
     "level": 1,
     "metadata": {},
     "source": [
      "Threading Module"
     ]
    },
    {
     "cell_type": "heading",
     "level": 4,
     "metadata": {},
     "source": [
      "Creating Thread instance, passing in function"
     ]
    },
    {
     "cell_type": "code",
     "collapsed": false,
     "input": [
      "import threading\n",
      "from time import sleep, ctime\n",
      "\n",
      "loops = [4, 2, 5]\n",
      "\n",
      "def loop(nloop, nsec):\n",
      "    print 'start loop', nloop, 'at:', ctime()\n",
      "    sleep(nsec)\n",
      "    print 'loop', nloop, 'done at:', ctime()\n",
      "    \n",
      "print 'starting at:', ctime()\n",
      "print '-' * 50\n",
      "\n",
      "threads = []\n",
      "nloops = range(len(loops))\n",
      "\n",
      "for i in nloops:\n",
      "    t = threading.Thread(target=loop, args=(i, loops[i]))\n",
      "    threads.append(t)\n",
      "    \n",
      "for i in nloops:        # start threads\n",
      "    threads[i].start()\n",
      "    \n",
      "for i in nloops:\n",
      "    threads[i].join()   # wait for all threads to finish\n",
      "    \n",
      "print '-' * 50\n",
      "print 'all DONE at:', ctime()"
     ],
     "language": "python",
     "metadata": {},
     "outputs": [
      {
       "output_type": "stream",
       "stream": "stdout",
       "text": [
        "starting at: Sun Nov 09 02:13:24 2014\n",
        "--------------------------------------------------\n",
        "start loop 0 at: Sun Nov 09 02:13:24 2014\n",
        "start loop 1 at: Sun Nov 09 02:13:24 2014\n",
        "start loop 2 at: Sun Nov 09 02:13:24 2014\n",
        "loop 1 done at: Sun Nov 09 02:13:26 2014\n",
        "loop 0 done at: Sun Nov 09 02:13:28 2014\n",
        "loop 2 done at: Sun Nov 09 02:13:29 2014\n",
        "--------------------------------------------------"
       ]
      },
      {
       "output_type": "stream",
       "stream": "stdout",
       "text": [
        "\n",
        "all DONE at: Sun Nov 09 02:13:29 2014\n"
       ]
      }
     ],
     "prompt_number": 13
    },
    {
     "cell_type": "heading",
     "level": 4,
     "metadata": {},
     "source": [
      "Create Thread instance, Passing in callable class instance"
     ]
    },
    {
     "cell_type": "code",
     "collapsed": false,
     "input": [
      "import threading\n",
      "from time import ctime, sleep\n",
      "\n",
      "loops = [4, 7, 5]\n",
      "nloops = range(len(loops))\n",
      "threads = []\n",
      "\n",
      "class ThreadFunc(object):\n",
      "    \n",
      "    def __init__(self, func, args, name=''):\n",
      "        self.name = name\n",
      "        self.func = func\n",
      "        self.args = args\n",
      "        \n",
      "    def __call__(self):\n",
      "        self.func(*self.args)\n",
      "        \n",
      "def loop(nloop, nsec):\n",
      "    print 'start loop', nloop, 'at:', ctime()\n",
      "    sleep(nsec)\n",
      "    print 'loop', nloop, 'done at:', ctime()\n",
      "    \n",
      "print 'starting at:', ctime()\n",
      "print '-' * 50\n",
      "\n",
      "for i in nloops:      # create all threads\n",
      "    t = threading.Thread(target=ThreadFunc(loop, (i, loops[i]), loop.__name__))\n",
      "    threads.append(t)\n",
      "    \n",
      "for i in nloops:\n",
      "    threads[i].start()\n",
      "    \n",
      "for i in nloops:\n",
      "    threads[i].join()\n",
      "\n",
      "print '-' * 50\n",
      "print 'all DONE at:', ctime()"
     ],
     "language": "python",
     "metadata": {},
     "outputs": [
      {
       "output_type": "stream",
       "stream": "stdout",
       "text": [
        "starting at: Sun Nov 09 02:13:29 2014\n",
        "--------------------------------------------------\n",
        "start loop 0 at: Sun Nov 09 02:13:29 2014\n",
        "start loop 1 at: Sun Nov 09 02:13:29 2014\n",
        "start loop 2 at: Sun Nov 09 02:13:29 2014\n",
        "loop 0 done at: Sun Nov 09 02:13:33 2014\n",
        "loop 2 done at: Sun Nov 09 02:13:34 2014\n",
        "loop 1 done at: Sun Nov 09 02:13:36 2014\n",
        "--------------------------------------------------"
       ]
      },
      {
       "output_type": "stream",
       "stream": "stdout",
       "text": [
        "\n",
        "all DONE at: Sun Nov 09 02:13:36 2014\n"
       ]
      }
     ],
     "prompt_number": 14
    },
    {
     "cell_type": "heading",
     "level": 4,
     "metadata": {},
     "source": [
      "Subclass Thread and create subclass instance"
     ]
    },
    {
     "cell_type": "code",
     "collapsed": false,
     "input": [
      "%xmode verbose\n",
      "import threading\n",
      "\n",
      "class MyThread(threading.Thread):\n",
      "    def __init__(self, func, args, name=''):\n",
      "        threading.Thread.__init__(self)\n",
      "        self.name = name\n",
      "        self.func = func\n",
      "        self.args = args\n",
      "        \n",
      "    def run(self):\n",
      "        self.func(*self.args)\n",
      "        \n",
      "print 'starting at:', ctime()\n",
      "print '-' * 50\n",
      "\n",
      "for i in nloops:\n",
      "    t = MyThread(loop, (i, loops[i]), loop.__name__)\n",
      "    threads.append(t)\n",
      "    \n",
      "for i in nloops:\n",
      "    threads[i].start()\n",
      "    \n",
      "for i in nloops:\n",
      "    threads[i].join()\n",
      "    \n",
      "print '-' * 50\n",
      "print 'all DONE at:', ctime()"
     ],
     "language": "python",
     "metadata": {},
     "outputs": [
      {
       "output_type": "stream",
       "stream": "stdout",
       "text": [
        "Exception reporting mode: Verbose\n",
        "starting at: Sun Nov 09 02:13:36 2014\n",
        "--------------------------------------------------\n"
       ]
      },
      {
       "ename": "RuntimeError",
       "evalue": "threads can only be started once",
       "output_type": "pyerr",
       "traceback": [
        "\u001b[1;31m---------------------------------------------------------------------------\u001b[0m\n\u001b[1;31mRuntimeError\u001b[0m                              Traceback (most recent call last)",
        "\u001b[1;32m<ipython-input-15-f1158680b8ce>\u001b[0m in \u001b[0;36m<module>\u001b[1;34m()\u001b[0m\n\u001b[0;32m     20\u001b[0m \u001b[1;33m\u001b[0m\u001b[0m\n\u001b[0;32m     21\u001b[0m \u001b[1;32mfor\u001b[0m \u001b[0mi\u001b[0m \u001b[1;32min\u001b[0m \u001b[0mnloops\u001b[0m\u001b[1;33m:\u001b[0m\u001b[1;33m\u001b[0m\u001b[0m\n\u001b[1;32m---> 22\u001b[1;33m     \u001b[0mthreads\u001b[0m\u001b[1;33m[\u001b[0m\u001b[0mi\u001b[0m\u001b[1;33m]\u001b[0m\u001b[1;33m.\u001b[0m\u001b[0mstart\u001b[0m\u001b[1;33m(\u001b[0m\u001b[1;33m)\u001b[0m\u001b[1;33m\u001b[0m\u001b[0m\n\u001b[0m        \u001b[1;36mglobal\u001b[0m \u001b[0;36mthreads\u001b[0m \u001b[1;34m= [<Thread(Thread-15, stopped 5848)>, <Thread(Thread-16, stopped 10180)>, <Thread(Thread-17, stopped 8120)>, <MyThread(loop, initial)>, <MyThread(loop, initial)>, <MyThread(loop, initial)>]\u001b[0m\u001b[1;34m\n        \u001b[0m\u001b[1;36mglobal\u001b[0m \u001b[0;36mi.start\u001b[0m \u001b[1;34m= \u001b[1;36mundefined\u001b[0m\u001b[0m\n\u001b[0;32m     23\u001b[0m \u001b[1;33m\u001b[0m\u001b[0m\n\u001b[0;32m     24\u001b[0m \u001b[1;32mfor\u001b[0m \u001b[0mi\u001b[0m \u001b[1;32min\u001b[0m \u001b[0mnloops\u001b[0m\u001b[1;33m:\u001b[0m\u001b[1;33m\u001b[0m\u001b[0m\n",
        "\u001b[1;32mC:\\Python27\\lib\\threading.pyc\u001b[0m in \u001b[0;36mstart\u001b[1;34m(self=<Thread(Thread-15, stopped 5848)>)\u001b[0m\n\u001b[0;32m    737\u001b[0m             \u001b[1;32mraise\u001b[0m \u001b[0mRuntimeError\u001b[0m\u001b[1;33m(\u001b[0m\u001b[1;34m\"thread.__init__() not called\"\u001b[0m\u001b[1;33m)\u001b[0m\u001b[1;33m\u001b[0m\u001b[0m\n\u001b[0;32m    738\u001b[0m         \u001b[1;32mif\u001b[0m \u001b[0mself\u001b[0m\u001b[1;33m.\u001b[0m\u001b[0m__started\u001b[0m\u001b[1;33m.\u001b[0m\u001b[0mis_set\u001b[0m\u001b[1;33m(\u001b[0m\u001b[1;33m)\u001b[0m\u001b[1;33m:\u001b[0m\u001b[1;33m\u001b[0m\u001b[0m\n\u001b[1;32m--> 739\u001b[1;33m             \u001b[1;32mraise\u001b[0m \u001b[0mRuntimeError\u001b[0m\u001b[1;33m(\u001b[0m\u001b[1;34m\"threads can only be started once\"\u001b[0m\u001b[1;33m)\u001b[0m\u001b[1;33m\u001b[0m\u001b[0m\n\u001b[0m        \u001b[1;36mglobal\u001b[0m \u001b[0;36mRuntimeError\u001b[0m \u001b[1;34m= \u001b[1;36mundefined\u001b[0m\u001b[0m\n\u001b[0;32m    740\u001b[0m         \u001b[1;32mif\u001b[0m \u001b[0m__debug__\u001b[0m\u001b[1;33m:\u001b[0m\u001b[1;33m\u001b[0m\u001b[0m\n\u001b[0;32m    741\u001b[0m             \u001b[0mself\u001b[0m\u001b[1;33m.\u001b[0m\u001b[0m_note\u001b[0m\u001b[1;33m(\u001b[0m\u001b[1;34m\"%s.start(): starting thread\"\u001b[0m\u001b[1;33m,\u001b[0m \u001b[0mself\u001b[0m\u001b[1;33m)\u001b[0m\u001b[1;33m\u001b[0m\u001b[0m\n",
        "\u001b[1;31mRuntimeError\u001b[0m: threads can only be started once"
       ]
      }
     ],
     "prompt_number": 15
    },
    {
     "cell_type": "heading",
     "level": 4,
     "metadata": {},
     "source": [
      "ST vs. MT: Fibonacci, Factorial, Summation"
     ]
    },
    {
     "cell_type": "code",
     "collapsed": false,
     "input": [
      "from myThread import MyThread\n",
      "from time import ctime, sleep\n",
      "\n",
      "def fib(x):\n",
      "    sleep(.005)\n",
      "    if x < 2: return 1\n",
      "    return (fib(x-2) + fib(x-1))\n",
      "\n",
      "def fac(x):\n",
      "    sleep(.1)    # slow down\n",
      "    if x < 2: return 1\n",
      "    return (x * fac(x-1))\n",
      "\n",
      "def sum(x):\n",
      "    sleep(.1)\n",
      "    if x < 2: return 1\n",
      "    return (x + sum(x-1))\n",
      "\n",
      "n = 12\n",
      "funcs = [fib, fac, sum]\n",
      "idx = range(len(funcs))\n",
      "\n",
      "print '-' * 20, 'Single Thread', '-' * 20\n",
      "for i in idx:\n",
      "    print 'starting', funcs[i].__name__, 'at:', ctime()\n",
      "    print funcs[i](n)\n",
      "    print funcs[i].__name__, 'finished at:', ctime()\n",
      "    \n",
      "print '\\n***** Multiple Threads*****'\n",
      "threads = []\n",
      "\n",
      "for i in idx:\n",
      "    t = MyThread(funcs[i], (n,), funcs[i].__name__)\n",
      "    threads.append(t)\n",
      "    \n",
      "for i in idx:\n",
      "    threads[i].start()\n",
      "    \n",
      "for i in idx:\n",
      "    threads[i].join()\n",
      "    print threads[i].getResult()\n",
      "    \n",
      "print 'ALL DONE'"
     ],
     "language": "python",
     "metadata": {},
     "outputs": [
      {
       "output_type": "stream",
       "stream": "stdout",
       "text": [
        "-------------------- Single Thread --------------------\n",
        "starting fib at: Sun Nov 09 02:14:56 2014\n",
        "233"
       ]
      },
      {
       "output_type": "stream",
       "stream": "stdout",
       "text": [
        "\n",
        "fib finished at: Sun Nov 09 02:14:58 2014\n",
        "starting fac at: Sun Nov 09 02:14:58 2014\n",
        "479001600"
       ]
      },
      {
       "output_type": "stream",
       "stream": "stdout",
       "text": [
        "\n",
        "fac finished at: Sun Nov 09 02:14:59 2014\n",
        "starting sum at: Sun Nov 09 02:14:59 2014\n",
        "78"
       ]
      },
      {
       "output_type": "stream",
       "stream": "stdout",
       "text": [
        "\n",
        "sum finished at: Sun Nov 09 02:15:00 2014\n",
        "\n",
        "***** Multiple Threads*****\n",
        "starting fib at: Sun Nov 09 02:15:00 2014\n",
        "starting fac at: Sun Nov 09 02:15:00 2014\n",
        "starting sum at: Sun Nov 09 02:15:00 2014\n",
        "facsum  finished at:finished at:  Sun Nov 09 02:15:02 2014Sun Nov 09 02:15:02 2014\n",
        "\n",
        "fib finished at: Sun Nov 09 02:15:03 2014\n",
        "233"
       ]
      },
      {
       "output_type": "stream",
       "stream": "stdout",
       "text": [
        "\n",
        "479001600\n",
        "78\n",
        "ALL DONE\n"
       ]
      }
     ],
     "prompt_number": 16
    }
   ],
   "metadata": {}
  }
 ]
}