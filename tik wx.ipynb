{
 "metadata": {
  "name": "",
  "signature": "sha256:2fa280d7a3b23dc87aefef9e7043f352fcfdbdbef3ca0e0e32e3340b7fc93853"
 },
 "nbformat": 3,
 "nbformat_minor": 0,
 "worksheets": [
  {
   "cells": [
    {
     "cell_type": "heading",
     "level": 2,
     "metadata": {},
     "source": [
      "Tix GUI Demo (Tk Interface eXtensions)"
     ]
    },
    {
     "cell_type": "code",
     "collapsed": false,
     "input": [
      "from Tkinter import Label, Button, END\n",
      "from Tix import Tk, Control, ComboBox\n",
      "\n",
      "top = Tk()\n",
      "top.tk.eval('package require Tix')\n",
      "\n",
      "lb = Label(top, text='Animals(in pairs; min:pai, max:dozen)')\n",
      "lb.pack()\n",
      "\n",
      "ct = Control(top, label='Number:', integer=True, max=12, min=2, value=2, step=2)\n",
      "ct.label.config(font='Helvetica -14 bold')\n",
      "ct.pack()\n",
      "\n",
      "cb = ComboBox(top, label='Type:', editable=True)\n",
      "for animal in ('dog', 'cat', 'hamster', 'python'):\n",
      "    cb.insert(END, animal)\n",
      "cb.pack()\n",
      "\n",
      "qb = Button(top, text='Quit', command=top.quit, bg='red', fg='white')\n",
      "qb.pack()\n",
      "\n",
      "top.mainloop()"
     ],
     "language": "python",
     "metadata": {},
     "outputs": [],
     "prompt_number": 6
    },
    {
     "cell_type": "heading",
     "level": 2,
     "metadata": {},
     "source": [
      "wxWidgets"
     ]
    },
    {
     "cell_type": "code",
     "collapsed": false,
     "input": [
      "import wx\n",
      "\n",
      "class MyFrame(wx.Frame):\n",
      "    def __init__(self, parent=None, id=-1, title=''):\n",
      "        wx.Frame.__init__(self, parent, id, title, size=(200, 140))\n",
      "        top = wx.Panel(self)\n",
      "        sizer = wx.Font(9, wx.SWISS, wx.NORMAL, wx.BOLD)\n",
      "        lb = wx.StaticText(top, -1, 'Animals(in pairs; min:pair, max:dozen)')\n",
      "        sizer.Add(lb)\n",
      "        \n",
      "        c1 = wx.StaticText(top, -1, 'Number:')\n",
      "        c1.SetFont(font)\n",
      "        ct = wx.SpinCtrl(top, -1, '2', min=2, max=12)\n",
      "        sizer.Add(c1)\n",
      "        sizer.Add(ct)\n",
      "        \n",
      "        c2 = wx.StaticText(top, -1, 'Type:')\n",
      "        c2.SetFont(font)\n",
      "        cb = wx.ComboBox(top, -1, '', choices=('dog', 'cat', 'hamster', 'python'))\n",
      "        sizer.Add(c2)\n",
      "        sizer.Add(cb)\n",
      "        \n",
      "        qb = wx.Button(top, -1, 'QUIT')\n",
      "        qb.SetBackgroundColour('red')\n",
      "        qb.SetForegroundColour('white')\n",
      "        self.Bind(wx.EVT_BUTTON, lambda e: self.Close(True), qb)\n",
      "        sizer.Add(qb)\n",
      "        \n",
      "        top.SetSizer(sizer)\n",
      "        self.Layout()\n",
      "        \n",
      "class MyApp(wx.App):\n",
      "    def OnInit(self):\n",
      "        frame = MyFrame(title='wxWidgets')\n",
      "        frame.Show(True)\n",
      "        self.SetTopWindows(frame)\n",
      "        return True\n",
      "    \n",
      "pp = MyApp()\n",
      "app.MainLoop()"
     ],
     "language": "python",
     "metadata": {},
     "outputs": [
      {
       "ename": "AttributeError",
       "evalue": "'Font' object has no attribute 'Add'",
       "output_type": "pyerr",
       "traceback": [
        "\u001b[1;31m---------------------------------------------------------------------------\u001b[0m\n\u001b[1;31mAttributeError\u001b[0m                            Traceback (most recent call last)",
        "\u001b[1;32m<ipython-input-9-825ead404fed>\u001b[0m in \u001b[0;36m<module>\u001b[1;34m()\u001b[0m\n\u001b[0;32m     37\u001b[0m         \u001b[1;32mreturn\u001b[0m \u001b[0mTrue\u001b[0m\u001b[1;33m\u001b[0m\u001b[0m\n\u001b[0;32m     38\u001b[0m \u001b[1;33m\u001b[0m\u001b[0m\n\u001b[1;32m---> 39\u001b[1;33m \u001b[0mpp\u001b[0m \u001b[1;33m=\u001b[0m \u001b[0mMyApp\u001b[0m\u001b[1;33m(\u001b[0m\u001b[1;33m)\u001b[0m\u001b[1;33m\u001b[0m\u001b[0m\n\u001b[0m\u001b[0;32m     40\u001b[0m \u001b[0mapp\u001b[0m\u001b[1;33m.\u001b[0m\u001b[0mMainLoop\u001b[0m\u001b[1;33m(\u001b[0m\u001b[1;33m)\u001b[0m\u001b[1;33m\u001b[0m\u001b[0m\n",
        "\u001b[1;32mC:\\Python27\\lib\\site-packages\\wx-2.8-msw-unicode\\wx\\_core.pyc\u001b[0m in \u001b[0;36m__init__\u001b[1;34m(self, redirect, filename, useBestVisual, clearSigInt)\u001b[0m\n\u001b[0;32m   7979\u001b[0m         \u001b[1;31m# This finishes the initialization of wxWindows and then calls\u001b[0m\u001b[1;33m\u001b[0m\u001b[1;33m\u001b[0m\u001b[0m\n\u001b[0;32m   7980\u001b[0m         \u001b[1;31m# the OnInit that should be present in the derived class\u001b[0m\u001b[1;33m\u001b[0m\u001b[1;33m\u001b[0m\u001b[0m\n\u001b[1;32m-> 7981\u001b[1;33m         \u001b[0mself\u001b[0m\u001b[1;33m.\u001b[0m\u001b[0m_BootstrapApp\u001b[0m\u001b[1;33m(\u001b[0m\u001b[1;33m)\u001b[0m\u001b[1;33m\u001b[0m\u001b[0m\n\u001b[0m\u001b[0;32m   7982\u001b[0m \u001b[1;33m\u001b[0m\u001b[0m\n\u001b[0;32m   7983\u001b[0m \u001b[1;33m\u001b[0m\u001b[0m\n",
        "\u001b[1;32mC:\\Python27\\lib\\site-packages\\wx-2.8-msw-unicode\\wx\\_core.pyc\u001b[0m in \u001b[0;36m_BootstrapApp\u001b[1;34m(*args, **kwargs)\u001b[0m\n\u001b[0;32m   7553\u001b[0m         \u001b[0mFor\u001b[0m \u001b[0minternal\u001b[0m \u001b[0muse\u001b[0m \u001b[0monly\u001b[0m\u001b[1;33m\u001b[0m\u001b[0m\n\u001b[0;32m   7554\u001b[0m         \"\"\"\n\u001b[1;32m-> 7555\u001b[1;33m         \u001b[1;32mreturn\u001b[0m \u001b[0m_core_\u001b[0m\u001b[1;33m.\u001b[0m\u001b[0mPyApp__BootstrapApp\u001b[0m\u001b[1;33m(\u001b[0m\u001b[1;33m*\u001b[0m\u001b[0margs\u001b[0m\u001b[1;33m,\u001b[0m \u001b[1;33m**\u001b[0m\u001b[0mkwargs\u001b[0m\u001b[1;33m)\u001b[0m\u001b[1;33m\u001b[0m\u001b[0m\n\u001b[0m\u001b[0;32m   7556\u001b[0m \u001b[1;33m\u001b[0m\u001b[0m\n\u001b[0;32m   7557\u001b[0m     \u001b[1;32mdef\u001b[0m \u001b[0mGetComCtl32Version\u001b[0m\u001b[1;33m(\u001b[0m\u001b[1;33m*\u001b[0m\u001b[0margs\u001b[0m\u001b[1;33m,\u001b[0m \u001b[1;33m**\u001b[0m\u001b[0mkwargs\u001b[0m\u001b[1;33m)\u001b[0m\u001b[1;33m:\u001b[0m\u001b[1;33m\u001b[0m\u001b[0m\n",
        "\u001b[1;32m<ipython-input-9-825ead404fed>\u001b[0m in \u001b[0;36mOnInit\u001b[1;34m(self)\u001b[0m\n\u001b[0;32m     32\u001b[0m \u001b[1;32mclass\u001b[0m \u001b[0mMyApp\u001b[0m\u001b[1;33m(\u001b[0m\u001b[0mwx\u001b[0m\u001b[1;33m.\u001b[0m\u001b[0mApp\u001b[0m\u001b[1;33m)\u001b[0m\u001b[1;33m:\u001b[0m\u001b[1;33m\u001b[0m\u001b[0m\n\u001b[0;32m     33\u001b[0m     \u001b[1;32mdef\u001b[0m \u001b[0mOnInit\u001b[0m\u001b[1;33m(\u001b[0m\u001b[0mself\u001b[0m\u001b[1;33m)\u001b[0m\u001b[1;33m:\u001b[0m\u001b[1;33m\u001b[0m\u001b[0m\n\u001b[1;32m---> 34\u001b[1;33m         \u001b[0mframe\u001b[0m \u001b[1;33m=\u001b[0m \u001b[0mMyFrame\u001b[0m\u001b[1;33m(\u001b[0m\u001b[0mtitle\u001b[0m\u001b[1;33m=\u001b[0m\u001b[1;34m'wxWidgets'\u001b[0m\u001b[1;33m)\u001b[0m\u001b[1;33m\u001b[0m\u001b[0m\n\u001b[0m\u001b[0;32m     35\u001b[0m         \u001b[0mframe\u001b[0m\u001b[1;33m.\u001b[0m\u001b[0mShow\u001b[0m\u001b[1;33m(\u001b[0m\u001b[0mTrue\u001b[0m\u001b[1;33m)\u001b[0m\u001b[1;33m\u001b[0m\u001b[0m\n\u001b[0;32m     36\u001b[0m         \u001b[0mself\u001b[0m\u001b[1;33m.\u001b[0m\u001b[0mSetTopWindows\u001b[0m\u001b[1;33m(\u001b[0m\u001b[0mframe\u001b[0m\u001b[1;33m)\u001b[0m\u001b[1;33m\u001b[0m\u001b[0m\n",
        "\u001b[1;32m<ipython-input-9-825ead404fed>\u001b[0m in \u001b[0;36m__init__\u001b[1;34m(self, parent, id, title)\u001b[0m\n\u001b[0;32m      7\u001b[0m         \u001b[0msizer\u001b[0m \u001b[1;33m=\u001b[0m \u001b[0mwx\u001b[0m\u001b[1;33m.\u001b[0m\u001b[0mFont\u001b[0m\u001b[1;33m(\u001b[0m\u001b[1;36m9\u001b[0m\u001b[1;33m,\u001b[0m \u001b[0mwx\u001b[0m\u001b[1;33m.\u001b[0m\u001b[0mSWISS\u001b[0m\u001b[1;33m,\u001b[0m \u001b[0mwx\u001b[0m\u001b[1;33m.\u001b[0m\u001b[0mNORMAL\u001b[0m\u001b[1;33m,\u001b[0m \u001b[0mwx\u001b[0m\u001b[1;33m.\u001b[0m\u001b[0mBOLD\u001b[0m\u001b[1;33m)\u001b[0m\u001b[1;33m\u001b[0m\u001b[0m\n\u001b[0;32m      8\u001b[0m         \u001b[0mlb\u001b[0m \u001b[1;33m=\u001b[0m \u001b[0mwx\u001b[0m\u001b[1;33m.\u001b[0m\u001b[0mStaticText\u001b[0m\u001b[1;33m(\u001b[0m\u001b[0mtop\u001b[0m\u001b[1;33m,\u001b[0m \u001b[1;33m-\u001b[0m\u001b[1;36m1\u001b[0m\u001b[1;33m,\u001b[0m \u001b[1;34m'Animals(in pairs; min:pair, max:dozen)'\u001b[0m\u001b[1;33m)\u001b[0m\u001b[1;33m\u001b[0m\u001b[0m\n\u001b[1;32m----> 9\u001b[1;33m         \u001b[0msizer\u001b[0m\u001b[1;33m.\u001b[0m\u001b[0mAdd\u001b[0m\u001b[1;33m(\u001b[0m\u001b[0mlb\u001b[0m\u001b[1;33m)\u001b[0m\u001b[1;33m\u001b[0m\u001b[0m\n\u001b[0m\u001b[0;32m     10\u001b[0m \u001b[1;33m\u001b[0m\u001b[0m\n\u001b[0;32m     11\u001b[0m         \u001b[0mc1\u001b[0m \u001b[1;33m=\u001b[0m \u001b[0mwx\u001b[0m\u001b[1;33m.\u001b[0m\u001b[0mStaticText\u001b[0m\u001b[1;33m(\u001b[0m\u001b[0mtop\u001b[0m\u001b[1;33m,\u001b[0m \u001b[1;33m-\u001b[0m\u001b[1;36m1\u001b[0m\u001b[1;33m,\u001b[0m \u001b[1;34m'Number:'\u001b[0m\u001b[1;33m)\u001b[0m\u001b[1;33m\u001b[0m\u001b[0m\n",
        "\u001b[1;31mAttributeError\u001b[0m: 'Font' object has no attribute 'Add'"
       ]
      }
     ],
     "prompt_number": 9
    }
   ],
   "metadata": {}
  }
 ]
}