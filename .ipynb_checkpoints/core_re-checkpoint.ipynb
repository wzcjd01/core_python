{
 "metadata": {
  "name": "",
  "signature": "sha256:0a654c49364a4703d7293d23e8598133e9c6f12f73e06d231bace458a1c5b118"
 },
 "nbformat": 3,
 "nbformat_minor": 0,
 "worksheets": [
  {
   "cells": [
    {
     "cell_type": "heading",
     "level": 1,
     "metadata": {
      "slideshow": {
       "slide_type": "-"
      }
     },
     "source": [
      "Grouping"
     ]
    },
    {
     "cell_type": "code",
     "collapsed": false,
     "input": [
      "import re\n",
      "m = re.match(r'(a)(b)', 'ab13c')\n",
      "print m.group()\n",
      "print m.group(1)\n",
      "print m.groups()\n",
      "print m.groupdict()"
     ],
     "language": "python",
     "metadata": {
      "slideshow": {
       "slide_type": "-"
      }
     },
     "outputs": [
      {
       "output_type": "stream",
       "stream": "stdout",
       "text": [
        "ab\n",
        "a\n",
        "('a', 'b')\n",
        "{}\n"
       ]
      }
     ],
     "prompt_number": 1
    },
    {
     "cell_type": "code",
     "collapsed": false,
     "input": [
      "m2 = re.match(r'(a(b))', 'ab')\n",
      "print m2.group()\n",
      "print m2.group(1)\n",
      "print m2.group(2)\n",
      "print m2.groups()"
     ],
     "language": "python",
     "metadata": {},
     "outputs": [
      {
       "output_type": "stream",
       "stream": "stdout",
       "text": [
        "ab\n",
        "ab\n",
        "b\n",
        "('ab', 'b')\n"
       ]
      }
     ],
     "prompt_number": 2
    },
    {
     "cell_type": "heading",
     "level": 1,
     "metadata": {},
     "source": [
      "Findall and Finditer"
     ]
    },
    {
     "cell_type": "code",
     "collapsed": false,
     "input": [
      "s = 'This and That'\n",
      "re.findall(r'(th\\w+) and (th\\w+)', s, re.I)\n",
      "\n",
      "re.finditer(r'(th\\w+) and (th\\w+)', s, re.I).next().groups()\n",
      "\n",
      "[g.groups() for g in re.finditer(r'(th\\w+) and (th\\w+)', s, re.I)]"
     ],
     "language": "python",
     "metadata": {},
     "outputs": [
      {
       "metadata": {},
       "output_type": "pyout",
       "prompt_number": 3,
       "text": [
        "[('This', 'That')]"
       ]
      }
     ],
     "prompt_number": 3
    },
    {
     "cell_type": "code",
     "collapsed": false,
     "input": [
      "re.findall(r'(th\\w+)', s, re.I)\n",
      "it = re.finditer(r'(th\\w+)', s, re.I)\n",
      "\n",
      "g = it.next()\n",
      "print g.groups()\n",
      "print g.group(1)\n",
      "\n",
      "g = it.next()\n",
      "print g.groups()\n",
      "print g.group(1)\n",
      "\n",
      "[g.group(1) for g in re.finditer(r'(th\\w+)', s, re.I)]"
     ],
     "language": "python",
     "metadata": {},
     "outputs": [
      {
       "output_type": "stream",
       "stream": "stdout",
       "text": [
        "('This',)\n",
        "This\n",
        "('That',)\n",
        "That\n"
       ]
      },
      {
       "metadata": {},
       "output_type": "pyout",
       "prompt_number": 4,
       "text": [
        "['This', 'That']"
       ]
      }
     ],
     "prompt_number": 4
    },
    {
     "cell_type": "heading",
     "level": 1,
     "metadata": {},
     "source": [
      "Searching and Replacing"
     ]
    },
    {
     "cell_type": "code",
     "collapsed": false,
     "input": [
      "print re.sub('X', 'Mr. Smith', 'attn: X\\n\\nDear X,\\n')\n",
      "print re.subn('X', 'Mr. Smith', 'attn: X\\n\\nDear X,\\n')"
     ],
     "language": "python",
     "metadata": {},
     "outputs": [
      {
       "output_type": "stream",
       "stream": "stdout",
       "text": [
        "attn: Mr. Smith\n",
        "\n",
        "Dear Mr. Smith,\n",
        "\n",
        "('attn: Mr. Smith\\n\\nDear Mr. Smith,\\n', 2)\n"
       ]
      }
     ],
     "prompt_number": 5
    },
    {
     "cell_type": "code",
     "collapsed": false,
     "input": [
      "re.sub(r'(\\d{1,2})/(\\d{1,2})/(\\d{2}|\\d{4})', r'\\2/\\1/\\3', '2/20/2014')"
     ],
     "language": "python",
     "metadata": {},
     "outputs": [
      {
       "metadata": {},
       "output_type": "pyout",
       "prompt_number": 6,
       "text": [
        "'20/2/2014'"
       ]
      }
     ],
     "prompt_number": 6
    },
    {
     "cell_type": "heading",
     "level": 1,
     "metadata": {},
     "source": [
      "Splitting on Delimiting Pattern"
     ]
    },
    {
     "cell_type": "code",
     "collapsed": true,
     "input": [
      "DATA = ('Mountain View, CA 94040',\n",
      "        'Sunnyvale, CA',\n",
      "        'Los Altos, 94023',\n",
      "        'Cupertino 95014',\n",
      "        'Palo Alto CA',)\n",
      "\n",
      "for datum in DATA:\n",
      "    print re.split(', |(?= (\\d{5}|[A-Z]{2})) ', datum)  # why not?\n",
      "\n",
      "print '-' * 50\n",
      "for datum in DATA:\n",
      "    print re.split(', |(?= (?:\\d{5}|[A-Z]{2})) ', datum)\n",
      "\n",
      "print '-' * 50\n",
      "for datum in DATA:\n",
      "    print re.split(', | (?=\\d{5}|[A-Z]{2})', datum)"
     ],
     "language": "python",
     "metadata": {},
     "outputs": [
      {
       "output_type": "stream",
       "stream": "stdout",
       "text": [
        "['Mountain View', None, 'CA', '94040', '94040']\n",
        "['Sunnyvale', None, 'CA']\n",
        "['Los Altos', None, '94023']\n",
        "['Cupertino', '95014', '95014']\n",
        "['Palo Alto', 'CA', 'CA']\n",
        "--------------------------------------------------\n",
        "['Mountain View', 'CA', '94040']\n",
        "['Sunnyvale', 'CA']\n",
        "['Los Altos', '94023']\n",
        "['Cupertino', '95014']\n",
        "['Palo Alto', 'CA']\n",
        "--------------------------------------------------\n",
        "['Mountain View', 'CA', '94040']\n",
        "['Sunnyvale', 'CA']\n",
        "['Los Altos', '94023']\n",
        "['Cupertino', '95014']\n",
        "['Palo Alto', 'CA']\n"
       ]
      }
     ],
     "prompt_number": 7
    },
    {
     "cell_type": "heading",
     "level": 1,
     "metadata": {},
     "source": [
      "Extension Notations(?...)"
     ]
    },
    {
     "cell_type": "markdown",
     "metadata": {},
     "source": [
      "###Ignorecase###"
     ]
    },
    {
     "cell_type": "code",
     "collapsed": false,
     "input": [
      "re.findall(r'(?i)yes', 'yes? Yes. YES!!')"
     ],
     "language": "python",
     "metadata": {},
     "outputs": [
      {
       "metadata": {},
       "output_type": "pyout",
       "prompt_number": 8,
       "text": [
        "['yes', 'Yes', 'YES']"
       ]
      }
     ],
     "prompt_number": 8
    },
    {
     "cell_type": "code",
     "collapsed": false,
     "input": [
      "re.findall(r'(?i)th\\w+', 'The quickest way is through this tunnel.')"
     ],
     "language": "python",
     "metadata": {},
     "outputs": [
      {
       "metadata": {},
       "output_type": "pyout",
       "prompt_number": 9,
       "text": [
        "['The', 'through', 'this']"
       ]
      }
     ],
     "prompt_number": 9
    },
    {
     "cell_type": "markdown",
     "metadata": {},
     "source": [
      "###Multiline###"
     ]
    },
    {
     "cell_type": "code",
     "collapsed": false,
     "input": [
      "re.findall(r'(?im)(^th[\\w ]+)', \"\"\"\n",
      "This line is the first,\n",
      "another line,\n",
      "that line, it's the best\n",
      "\"\"\")"
     ],
     "language": "python",
     "metadata": {},
     "outputs": [
      {
       "metadata": {},
       "output_type": "pyout",
       "prompt_number": 10,
       "text": [
        "['This line is the first', 'that line']"
       ]
      }
     ],
     "prompt_number": 10
    },
    {
     "cell_type": "markdown",
     "metadata": {},
     "source": [
      "###Dotall###"
     ]
    },
    {
     "cell_type": "code",
     "collapsed": false,
     "input": [
      "re.findall(r'th.+', \"\"\"\n",
      "The first line\n",
      "the second line\n",
      "the third line\n",
      "\"\"\")"
     ],
     "language": "python",
     "metadata": {},
     "outputs": [
      {
       "metadata": {},
       "output_type": "pyout",
       "prompt_number": 11,
       "text": [
        "['the second line', 'the third line']"
       ]
      }
     ],
     "prompt_number": 11
    },
    {
     "cell_type": "code",
     "collapsed": false,
     "input": [
      "re.findall(r'(?s)th.+', \"\"\"\n",
      "The first line\n",
      "the second line\n",
      "the third line\n",
      "\"\"\")   # re.S, re.DOTALL, (?s)"
     ],
     "language": "python",
     "metadata": {},
     "outputs": [
      {
       "metadata": {},
       "output_type": "pyout",
       "prompt_number": 12,
       "text": [
        "['the second line\\nthe third line\\n']"
       ]
      }
     ],
     "prompt_number": 12
    },
    {
     "cell_type": "markdown",
     "metadata": {},
     "source": [
      "###Verbose###"
     ]
    },
    {
     "cell_type": "code",
     "collapsed": false,
     "input": [
      "re.search(r\"\"\"(?x)\n",
      "    \\((\\d{3})\\) # area code\n",
      "    [ ]         # space\n",
      "    (\\d{3})     # prefix\n",
      "    -           # dash\n",
      "    (\\d{4})     # endpoint number\n",
      "    \"\"\", '(800) 555-1211').groups()"
     ],
     "language": "python",
     "metadata": {},
     "outputs": [
      {
       "metadata": {},
       "output_type": "pyout",
       "prompt_number": 13,
       "text": [
        "('800', '555', '1211')"
       ]
      }
     ],
     "prompt_number": 13
    },
    {
     "cell_type": "markdown",
     "metadata": {},
     "source": [
      "###(?:...) to group but not save for future retrieval or use###"
     ]
    },
    {
     "cell_type": "code",
     "collapsed": false,
     "input": [
      "re.findall(r'http://(?:\\w+\\.)*(\\w+\\.com)', 'http://google.com http://www.google.com http://code.google.com')"
     ],
     "language": "python",
     "metadata": {},
     "outputs": [
      {
       "metadata": {},
       "output_type": "pyout",
       "prompt_number": 14,
       "text": [
        "['google.com', 'google.com', 'google.com']"
       ]
      }
     ],
     "prompt_number": 14
    },
    {
     "cell_type": "heading",
     "level": 3,
     "metadata": {},
     "source": [
      "named group"
     ]
    },
    {
     "cell_type": "code",
     "collapsed": false,
     "input": [
      "re.search(r'\\((?P<areacode>\\d{3})\\) (?P<prefix>\\d{3})-(?:\\d{4})', '(800) 555-1212').groupdict()"
     ],
     "language": "python",
     "metadata": {},
     "outputs": [
      {
       "metadata": {},
       "output_type": "pyout",
       "prompt_number": 15,
       "text": [
        "{'areacode': '800', 'prefix': '555'}"
       ]
      }
     ],
     "prompt_number": 15
    },
    {
     "cell_type": "code",
     "collapsed": false,
     "input": [
      "re.sub(r'\\((?P<areacode>\\d{3})\\) (?P<prefix>\\d{3})-(?:\\d{4})',\n",
      "       '(\\g<areacode>) \\g<prefix>-xxxx', '(800) 555-1212')"
     ],
     "language": "python",
     "metadata": {},
     "outputs": [
      {
       "metadata": {},
       "output_type": "pyout",
       "prompt_number": 16,
       "text": [
        "'(800) 555-xxxx'"
       ]
      }
     ],
     "prompt_number": 16
    },
    {
     "cell_type": "code",
     "collapsed": false,
     "input": [
      "%xmode verbose\n",
      "bool(re.match(r\"\"\"(?x)\n",
      "\n",
      "    # match (800) 555-1212, save areacode, prefix, no.\n",
      "    \\((?P<areacode>\\d{3})\\)[ ](?P<prefix>\\d{3})-(?P<number>\\d{4})\n",
      "    \n",
      "    # space\n",
      "    [ ]\n",
      "    \n",
      "    # match 800-555-1212\n",
      "    (?P=areacode)-(?P=prefix)-(?P=number)\n",
      "    \n",
      "    # space\n",
      "    [ ]\n",
      "    \n",
      "    # match 18005551212\n",
      "    1(?P=areacode)(?P=prefix)(?P=number)\n",
      "    \"\"\", '(800) 555-1212 800-555-1212 18005551212'))"
     ],
     "language": "python",
     "metadata": {},
     "outputs": [
      {
       "output_type": "stream",
       "stream": "stdout",
       "text": [
        "Exception reporting mode: Verbose\n"
       ]
      },
      {
       "metadata": {},
       "output_type": "pyout",
       "prompt_number": 17,
       "text": [
        "True"
       ]
      }
     ],
     "prompt_number": 17
    },
    {
     "cell_type": "markdown",
     "metadata": {},
     "source": [
      "###Lookahead and lookback without consuming###"
     ]
    },
    {
     "cell_type": "markdown",
     "metadata": {},
     "source": [
      "* **example 1**: only interested in the first names of the person whose surname is 'van Rossum'"
     ]
    },
    {
     "cell_type": "code",
     "collapsed": false,
     "input": [
      "re.findall(r'\\w+(?= van Rossum)', \n",
      "           \"\"\"\n",
      "           Guido van Rossum\n",
      "           Tim Peters\n",
      "           Alex Martelli\n",
      "           Just van Rossum\n",
      "           Raymond Hettinger\n",
      "           \"\"\"\n",
      "           )"
     ],
     "language": "python",
     "metadata": {},
     "outputs": [
      {
       "metadata": {},
       "output_type": "pyout",
       "prompt_number": 18,
       "text": [
        "['Guido', 'Just']"
       ]
      }
     ],
     "prompt_number": 18
    },
    {
     "cell_type": "markdown",
     "metadata": {},
     "source": [
      "* **example 2**: ignore email addresses that begin with 'noreply' or 'postmaster'"
     ]
    },
    {
     "cell_type": "code",
     "collapsed": false,
     "input": [
      "re.findall(r'(?m)^\\s+(?!noreply|postmaster)(\\w+)',\n",
      "           \"\"\"\n",
      "           sales@ppp.com\n",
      "           postmaster@ppp.com\n",
      "           eng@ppp.com\n",
      "           noreply@ppp.com\n",
      "           admin@ppp.com\"\"\")"
     ],
     "language": "python",
     "metadata": {},
     "outputs": [
      {
       "metadata": {},
       "output_type": "pyout",
       "prompt_number": 19,
       "text": [
        "['sales', 'eng', 'admin']"
       ]
      }
     ],
     "prompt_number": 19
    },
    {
     "cell_type": "code",
     "collapsed": false,
     "input": [
      "['%s@google.com' % e.group(1) for e in re.finditer(\n",
      "r'(?m)^\\s+(?!noreply|postmaster)(\\w+)',\n",
      "\"\"\"\n",
      "    sales@ppp.com\n",
      "    postmaster@ppp.com\n",
      "    eng@ppp.com\n",
      "    noreply@ppp.com\n",
      "    admin@ppp.com\n",
      "    \"\"\")]"
     ],
     "language": "python",
     "metadata": {},
     "outputs": [
      {
       "metadata": {},
       "output_type": "pyout",
       "prompt_number": 20,
       "text": [
        "['sales@google.com', 'eng@google.com', 'admin@google.com']"
       ]
      }
     ],
     "prompt_number": 20
    },
    {
     "cell_type": "markdown",
     "metadata": {},
     "source": [
      "###Conditional regex matching###"
     ]
    },
    {
     "cell_type": "code",
     "collapsed": false,
     "input": [
      "bool(re.search(r'(?:(x)|y)(?(1)y|x)', 'xy'))  # 'xy' match the re"
     ],
     "language": "python",
     "metadata": {},
     "outputs": [
      {
       "metadata": {},
       "output_type": "pyout",
       "prompt_number": 21,
       "text": [
        "True"
       ]
      }
     ],
     "prompt_number": 21
    },
    {
     "cell_type": "code",
     "collapsed": false,
     "input": [
      "bool(re.search(r'(?:(x)|y)(?(1)y|x)', 'yx'))"
     ],
     "language": "python",
     "metadata": {},
     "outputs": [
      {
       "metadata": {},
       "output_type": "pyout",
       "prompt_number": 22,
       "text": [
        "True"
       ]
      }
     ],
     "prompt_number": 22
    },
    {
     "cell_type": "code",
     "collapsed": false,
     "input": [
      "bool(re.search(r'(?:(x)|y)(?(1)y|x)', 'yy'))"
     ],
     "language": "python",
     "metadata": {},
     "outputs": [
      {
       "metadata": {},
       "output_type": "pyout",
       "prompt_number": 23,
       "text": [
        "False"
       ]
      }
     ],
     "prompt_number": 23
    },
    {
     "cell_type": "code",
     "collapsed": false,
     "input": [
      "bool(re.search(r'(?:(x)|y)(?(1)y|x)', 'xx'))"
     ],
     "language": "python",
     "metadata": {},
     "outputs": [
      {
       "metadata": {},
       "output_type": "pyout",
       "prompt_number": 24,
       "text": [
        "False"
       ]
      }
     ],
     "prompt_number": 24
    },
    {
     "cell_type": "markdown",
     "metadata": {},
     "source": [
      "###Raw string###"
     ]
    },
    {
     "cell_type": "code",
     "collapsed": false,
     "input": [
      "m = re.match('\\bblow', 'blow')  # backspace\n",
      "if m: print m.group()"
     ],
     "language": "python",
     "metadata": {},
     "outputs": [],
     "prompt_number": 25
    },
    {
     "cell_type": "code",
     "collapsed": false,
     "input": [
      "m = re.match('\\\\bblow', 'blow') # word boundary\n",
      "if m: print m.group()"
     ],
     "language": "python",
     "metadata": {},
     "outputs": [
      {
       "output_type": "stream",
       "stream": "stdout",
       "text": [
        "blow\n"
       ]
      }
     ],
     "prompt_number": 26
    },
    {
     "cell_type": "code",
     "collapsed": false,
     "input": [
      "m = re.match(r'\\bblow', 'blow')\n",
      "if m: print m.group()"
     ],
     "language": "python",
     "metadata": {},
     "outputs": [
      {
       "output_type": "stream",
       "stream": "stdout",
       "text": [
        "blow\n"
       ]
      }
     ],
     "prompt_number": 27
    }
   ],
   "metadata": {}
  }
 ]
}