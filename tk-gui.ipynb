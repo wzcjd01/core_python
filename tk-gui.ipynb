{
 "metadata": {
  "name": "",
  "signature": "sha256:a0dd25abee52c174e4c3e6af688eb93564ea2771cb93bd92ce9f6612366eef7d"
 },
 "nbformat": 3,
 "nbformat_minor": 0,
 "worksheets": [
  {
   "cells": [
    {
     "cell_type": "code",
     "collapsed": false,
     "input": [
      "import Tkinter\n",
      "\n",
      "top = Tkinter.Tk()\n",
      "label = Tkinter.Label(top, text='Hello World!')\n",
      "label.pack()\n",
      "\n",
      "Tkinter.mainloop()"
     ],
     "language": "python",
     "metadata": {},
     "outputs": [],
     "prompt_number": 16
    },
    {
     "cell_type": "code",
     "collapsed": false,
     "input": [
      "top = Tkinter.Tk()\n",
      "quit = Tkinter.Button(top, text='Hello World!', command=top.quit)\n",
      "quit.pack()\n",
      "Tkinter.mainloop()"
     ],
     "language": "python",
     "metadata": {},
     "outputs": [],
     "prompt_number": 18
    },
    {
     "cell_type": "code",
     "collapsed": false,
     "input": [
      "import Tkinter\n",
      "top = Tkinter.Tk()\n",
      "\n",
      "hello = Tkinter.Label(top, text='Hello World!')\n",
      "hello.pack()\n",
      "\n",
      "quit = Tkinter.Button(top, text='QUIT', command=top.quit, bg='red', fg='white')\n",
      "quit.pack(fill=Tkinter.X, expand=1)\n",
      "\n",
      "Tkinter.mainloop()"
     ],
     "language": "python",
     "metadata": {},
     "outputs": [],
     "prompt_number": 1
    },
    {
     "cell_type": "code",
     "collapsed": false,
     "input": [
      "import Tkinter\n",
      "\n",
      "def resize(ev=None):\n",
      "    label.config(font='Helvetica -%d bold' % scale.get())\n",
      "\n",
      "top = Tkinter.Tk()\n",
      "top.geometry('250x150')\n",
      "\n",
      "label = Tkinter.Label(top, text='Hello World!', font='Helvetica -12 bold')\n",
      "label.pack(fill=Tkinter.Y, expand=1)\n",
      "\n",
      "scale = Tkinter.Scale(top, from_=10, to=40, orient=Tkinter.HORIZONTAL, command=resize)\n",
      "scale.pack(fill=Tkinter.X,expand=1)\n",
      "\n",
      "quit = Tkinter.Button(top, text='QUIT', command=top.quit, activeforeground='white', activebackground='red')\n",
      "quit.pack()\n",
      "\n",
      "Tkinter.mainloop()"
     ],
     "language": "python",
     "metadata": {},
     "outputs": [],
     "prompt_number": 2
    },
    {
     "cell_type": "code",
     "collapsed": false,
     "input": [
      "# Create road signs with the apropriate foreground and background \n",
      "# colors, based on sign type. Use PFAs to help 'templatize' common\n",
      "# GUI parameters\n",
      "from functools import partial\n",
      "from Tkinter import Tk, Button, X\n",
      "from tkMessageBox import showinfo, showerror, showwarning\n",
      "\n",
      "# some road signs and their categories\n",
      "WARN = 'warn'\n",
      "CRIT = 'crit'\n",
      "REGU = 'regu'\n",
      "\n",
      "SIGNS = {'do not enter': CRIT,\n",
      "         'railroad crossing': WARN,\n",
      "         '55\\nspeed limit': REGU,\n",
      "         'wrong road': CRIT,\n",
      "         'merging traffic': WARN,\n",
      "         'one way': REGU,\n",
      "}\n",
      "\n",
      "# Tk dialogs are created as button callbacks\n",
      "critCB = lambda: showerror('Error', 'Error Button Pressed!')\n",
      "warnCB = lambda: showwarning('Warning', 'warning button pressed!')\n",
      "infoCB = lambda: showinfo('Info', 'Info Button Pressed!')\n",
      "\n",
      "top = Tk()\n",
      "top.title('Road Signs')\n",
      "Button(top, text='QUIT', command=top.quit, bg='red', fg='white').pack()\n",
      "\n",
      "# our 'Button' specifications\n",
      "MyButton = partial(Button, top)\n",
      "CritButton = partial(MyButton, command=critCB, bg='white', fg='red')\n",
      "WarnButton = partial(MyButton, command=warnCB, bg='goldenrod1')\n",
      "ReguButton = partial(MyButton, command=infoCB, bg='white')\n",
      "\n",
      "for eachSign in SIGNS:\n",
      "    signType = SIGNS[eachSign]\n",
      "    \n",
      "    # specify Button name and Button text\n",
      "    cmd = '%sButton(text=%r%s).pack(fill=X, expand=True)' % (signType.title(),\n",
      "                                                             eachSign,\n",
      "                                                             '.upper()' if signType == CRIT else '.title()')\n",
      "    \n",
      "    # instantiate Buttons\n",
      "    eval(cmd)\n",
      "        \n",
      "top.mainloop()"
     ],
     "language": "python",
     "metadata": {},
     "outputs": [],
     "prompt_number": 5
    },
    {
     "cell_type": "markdown",
     "metadata": {},
     "source": [
      "---"
     ]
    },
    {
     "cell_type": "markdown",
     "metadata": {},
     "source": [
      "This slightly more advanced GUI expands on the use of widgets, adding\n",
      "listboxes, text entry fields, and scrollbars to our repertoire. There\n",
      "are also a good number of callbacks such as mouse clicks, key presses, and scrollbar action."
     ]
    },
    {
     "cell_type": "code",
     "collapsed": false,
     "input": [
      "import os\n",
      "from time import sleep\n",
      "from Tkinter import *\n",
      "\n",
      "\n",
      "class DirList(object):\n",
      "    \n",
      "    def __init__(self, initdir=None):\n",
      "        self.top = Tk()\n",
      "        self.label = Label(self.top, text='Directory Lister v1.1')\n",
      "        self.label.pack()\n",
      "        \n",
      "        self.cwd = StringVar(self.top)\n",
      "        \n",
      "        self.dirl = Label(self.top, fg='blue', font=('Helvetica', 12, 'bold'))\n",
      "        self.dirl.pack()\n",
      "        \n",
      "        # Listbox for list directory\n",
      "        self.dirfm = Frame(self.top)\n",
      "        self.dirsb = Scrollbar(self.dirfm)\n",
      "        self.dirsb.pack(side=RIGHT, fill=Y)\n",
      "        self.dirs = Listbox(self.dirfm, height=15, width=50, yscrollcommand=self.dirsb.set)\n",
      "        self.dirs.bind('<Double-1>', self.setDirAndGo) # listbox entries binding to callback 'setDirAndGo'\n",
      "        self.dirsb.config(command=self.dirs.yview)  # scrollbar tied to listbox\n",
      "        self.dirs.pack(side=LEFT, fill=BOTH)\n",
      "        self.dirfm.pack()\n",
      "        \n",
      "        # Entry field for directly enter the directory name to be traversed\n",
      "        self.dirn = Entry(self.top, width=50, textvariable=self.cwd)\n",
      "        self.dirn.bind('<Return>', self.doLS)\n",
      "        self.dirn.pack()\n",
      "        \n",
      "        # button frame\n",
      "        self.bfm = Frame(self.top)\n",
      "        self.clr = Button(self.bfm, text='Clear', command=self.clrDir, activeforeground='white', activebackground='blue')\n",
      "        self.ls = Button(self.bfm, text='List Directory', command=self.doLS, activeforeground='white', activebackground='green')\n",
      "        self.quit = Button(self.bfm, text='Quit', command=self.top.quit, activeforeground='white', activebackground='red')\n",
      "        self.clr.pack(side=LEFT)\n",
      "        self.ls.pack(side=LEFT)\n",
      "        self.quit.pack(side=LEFT)\n",
      "        self.bfm.pack()\n",
      "        \n",
      "        if initdir:\n",
      "            self.cwd.set(os.curdir)\n",
      "            self.doLS()\n",
      "            \n",
      "    def clrDir(self, ev=None):\n",
      "        self.cwd.set('')\n",
      "        \n",
      "    def setDirAndGo(self, ev=None):\n",
      "        self.last = self.cwd.get()\n",
      "        self.dirs.config(selectbackground='red')\n",
      "        check = self.dirs.get(self.dirs.curselection())\n",
      "        if not check:\n",
      "            check = os.curdir\n",
      "        self.cwd.set(check)\n",
      "        self.doLS()\n",
      "        \n",
      "    def doLS(self, ev=None):\n",
      "        error = ''\n",
      "        tdir = self.cwd.get()\n",
      "        if not tdir: tdir = os.curdir\n",
      "            \n",
      "        if not os.path.exists(tdir):\n",
      "            error = tdir + ': no such file'\n",
      "        elif not os.path.isdir(tdir):\n",
      "            error = tdir + ':not a directory'\n",
      "            \n",
      "        if error:\n",
      "            self.cwd.set(error)\n",
      "            self.top.update()\n",
      "            sleep(2)\n",
      "            if not (hasattr(self, 'last') and self.last):\n",
      "                self.last = os.curdir\n",
      "            self.cwd.set(self.last)\n",
      "            self.dirs.config(selectbackground='LightSkyBlue')\n",
      "            self.top.update()\n",
      "            return\n",
      "        \n",
      "        self.cwd.set('Fetching directory contents...')\n",
      "        self.top.update()\n",
      "        dirlist = os.listdir(tdir)\n",
      "        dirlist.sort()\n",
      "        os.chdir(tdir)\n",
      "        self.dirl.config(text=os.getcwd())\n",
      "        self.dirs.delete(0, END)\n",
      "        self.dirs.insert(END, os.curdir)\n",
      "        self.dirs.insert(END, os.pardir)\n",
      "        for eachFile in dirlist:\n",
      "            self.dirs.insert(END, eachFile)\n",
      "        self.cwd.set(os.curdir)\n",
      "        self.dirs.config(selectbackground='LightSkyBlue')\n",
      "        \n",
      "d = DirList(os.curdir)\n",
      "mainloop()"
     ],
     "language": "python",
     "metadata": {},
     "outputs": [],
     "prompt_number": 1
    }
   ],
   "metadata": {}
  }
 ]
}