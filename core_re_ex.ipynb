{
 "metadata": {
  "name": "",
  "signature": "sha256:a0b3d9d6db8695b4b9639d6d79ccda647c79f3c4094d9e81ffb4bddb6f40917b"
 },
 "nbformat": 3,
 "nbformat_minor": 0,
 "worksheets": [
  {
   "cells": [
    {
     "cell_type": "code",
     "collapsed": false,
     "input": [
      "%load gendata.py"
     ],
     "language": "python",
     "metadata": {},
     "outputs": [],
     "prompt_number": 1
    },
    {
     "cell_type": "code",
     "collapsed": false,
     "input": [
      "#!/usr/bin/env python\n",
      "__author__ = 'Wang Zhicheng'\n",
      "\"\"\"\n",
      "Create random data for regular expressions practice.\n",
      "\"\"\"\n",
      "\n",
      "from random import randrange, choice\n",
      "from string import ascii_lowercase as lc\n",
      "from sys import maxint\n",
      "from time import ctime\n",
      "\n",
      "tlds = ('com', 'edu', 'net', 'org', 'gov')\n",
      "\n",
      "for i in xrange(randrange(5, 11)):\n",
      "    dtint = randrange(maxint)  # pick date\n",
      "    dtstr = ctime(dtint)  # date string\n",
      "\n",
      "    llen = randrange(4, 8)  # login is shorter\n",
      "    login = ''.join(choice(lc) for j in range(llen))\n",
      "\n",
      "    dlen = randrange(llen, 13)  # domain is longer\n",
      "    dom = ''.join(choice(lc) for j in xrange(dlen))\n",
      "\n",
      "    print '%s::%s@%s.%s::%d-%d-%d' % (dtstr, login,\n",
      "                                        dom, choice(tlds), dtint, llen, dlen)\n"
     ],
     "language": "python",
     "metadata": {},
     "outputs": [
      {
       "output_type": "stream",
       "stream": "stdout",
       "text": [
        "Thu Nov 10 15:52:02 1977::czykdkd@dwhnrsvplpw.net::248025122-7-11\n",
        "Sun Jan 22 07:30:16 1989::wshyisa@mxuzsirxcwz.net::601457416-7-11\n",
        "Thu Apr 19 12:23:07 2018::fcdv@hfzike.edu::1524136987-4-6\n",
        "Wed Feb 07 18:46:26 1996::yxykqop@vjxsjhx.edu::823718786-7-7\n",
        "Wed Sep 15 17:10:22 2010::ueso@fpekhrhvz.org::1284567022-4-9\n",
        "Wed Apr 24 08:20:02 2002::dupdrkn@srqwwybzh.com::1019632802-7-9\n",
        "Tue Jun 08 04:32:41 1999::tfdfv@pyxtlxmpb.net::928812761-5-9\n",
        "Mon Nov 16 10:51:39 1992::nwabk@gqivienyvdvy.com::721911099-5-12\n"
       ]
      }
     ],
     "prompt_number": 2
    },
    {
     "cell_type": "heading",
     "level": 3,
     "metadata": {},
     "source": [
      "Ex 1-17: Determine how many times each day of the week shows up"
     ]
    },
    {
     "cell_type": "code",
     "collapsed": false,
     "input": [
      "import os\n",
      "from collections import Counter\n",
      "import re\n",
      "\n",
      "weekdays = []\n",
      "                \n",
      "with os.popen('python gendata.py', 'r') as f:\n",
      "    for eachLine in f:\n",
      "        weekdays.append(re.search('^(\\w{3})', eachLine).group(1))\n",
      "\n",
      "c = Counter(weekdays)\n",
      "print c"
     ],
     "language": "python",
     "metadata": {},
     "outputs": [
      {
       "output_type": "stream",
       "stream": "stdout",
       "text": [
        "Counter({'Wed': 3, 'Thu': 3, 'Sun': 1, 'Fri': 1, 'Tue': 1, 'Mon': 1})\n"
       ]
      }
     ],
     "prompt_number": 48
    },
    {
     "cell_type": "heading",
     "level": 3,
     "metadata": {},
     "source": [
      "Ex 1-18: Data corruption detection"
     ]
    },
    {
     "cell_type": "code",
     "collapsed": false,
     "input": [
      "import os\n",
      "import re\n",
      "import time\n",
      "\n",
      "with os.popen('python gendata.py') as f:\n",
      "    \n",
      "    for eachLine in f:\n",
      "        tm_tup = time.strptime(re.search('(.*?)::', eachLine).group(1))\n",
      "        if time.mktime(tm_tup) != float(re.search('(?:.*::.*::)(\\d+)', eachLine).group(1)):\n",
      "            print eachLine  # print corrupted line\n",
      "            break\n",
      "    else:\n",
      "        print 'No corruption found, Data fine'"
     ],
     "language": "python",
     "metadata": {},
     "outputs": [
      {
       "output_type": "stream",
       "stream": "stdout",
       "text": [
        "No corruption found, Data fine\n"
       ]
      }
     ],
     "prompt_number": 62
    }
   ],
   "metadata": {}
  }
 ]
}